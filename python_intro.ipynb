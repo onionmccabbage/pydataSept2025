{
 "cells": [
  {
   "cell_type": "code",
   "execution_count": 2,
   "id": "b0a0c732-6677-4471-aec1-8dac09fbd02b",
   "metadata": {},
   "outputs": [
    {
     "data": {
      "text/plain": [
       "float"
      ]
     },
     "execution_count": 2,
     "metadata": {},
     "output_type": "execute_result"
    }
   ],
   "source": [
    "a = 1\n",
    "b = 3.8\n",
    "type(b)"
   ]
  },
  {
   "cell_type": "code",
   "execution_count": 4,
   "id": "7a993c9f-6174-4112-aec2-3da4a114ee28",
   "metadata": {},
   "outputs": [
    {
     "data": {
      "text/plain": [
       "'h'"
      ]
     },
     "execution_count": 4,
     "metadata": {},
     "output_type": "execute_result"
    }
   ],
   "source": [
    "# here is a comment\n",
    "# complex data types\n",
    "s = 'hello' # immutable ordinal collection of characters\n",
    "type(s)\n",
    "s[0]"
   ]
  },
  {
   "cell_type": "code",
   "execution_count": 13,
   "id": "54e31ec8-f83b-4cb2-8830-7363c98d3710",
   "metadata": {},
   "outputs": [
    {
     "data": {
      "text/plain": [
       "[4, 8, 'e', 2, 0, 3, 3.8]"
      ]
     },
     "execution_count": 13,
     "metadata": {},
     "output_type": "execute_result"
    }
   ],
   "source": [
    "# list, tuple and dict\n",
    "l = [4,8,4,2,0,3] # mutable ordinal collection of any data type\n",
    "type(l)\n",
    "l\n",
    "# slicing lets us access a bunch of values from a collection\n",
    "s[0:3] # start, stop-before, step\n",
    "l[0:4:2]\n",
    "# since a list is mutable, we can change members\n",
    "l[2] = s[1]\n",
    "l.append(b)\n",
    "l"
   ]
  },
  {
   "cell_type": "code",
   "execution_count": 19,
   "id": "ebdf38df-5960-465e-a303-1441ddd04ce3",
   "metadata": {},
   "outputs": [
    {
     "data": {
      "text/plain": [
       "(6, 3, 8, 1, 'hello', None, True, False)"
      ]
     },
     "execution_count": 19,
     "metadata": {},
     "output_type": "execute_result"
    }
   ],
   "source": [
    "# tuple\n",
    "t = (6,3,8,a,s,None, True, False) # immutable ordinal collection of any data type\n",
    "t\n",
    "type(t)\n",
    "t[4][2]"
   ]
  },
  {
   "cell_type": "code",
   "execution_count": 22,
   "id": "5d4cdf01-fbee-4d2e-920f-49bad09286bf",
   "metadata": {},
   "outputs": [
    {
     "data": {
      "text/plain": [
       "'Ethel'"
      ]
     },
     "execution_count": 22,
     "metadata": {},
     "output_type": "execute_result"
    }
   ],
   "source": [
    "# dictionary is an unordered collection of key:value pairs\n",
    "d = {'n':'Ethel', 'a':42, 'level':'admin'}\n",
    "d\n",
    "d['n']"
   ]
  },
  {
   "cell_type": "code",
   "execution_count": 28,
   "id": "72862adb-b51a-447f-9fa7-ee03437a7ac1",
   "metadata": {},
   "outputs": [
    {
     "name": "stdout",
     "output_type": "stream",
     "text": [
      "h\n",
      "e\n",
      "l\n",
      "l\n",
      "o\n",
      "4\n",
      "8\n",
      "e\n",
      "2\n",
      "0\n",
      "3\n",
      "3.8\n",
      "n Ethel\n",
      "a 42\n",
      "level admin\n"
     ]
    }
   ],
   "source": [
    "# looping (iterating)\n",
    "for i in s:\n",
    "    print(i)\n",
    "\n",
    "for _ in l:\n",
    "    print(_)\n",
    "\n",
    "for (k,v) in d.items():\n",
    "    print(k,v)"
   ]
  },
  {
   "cell_type": "code",
   "execution_count": 34,
   "id": "67efb34f-6cc5-4c21-a496-a760dc9bbd53",
   "metadata": {},
   "outputs": [
    {
     "name": "stdout",
     "output_type": "stream",
     "text": [
      "not less\n"
     ]
    }
   ],
   "source": [
    "# using logic\n",
    "if l[0]<t[1]: # <, >, <=, >=, !=, == (double-equals checks equality)\n",
    "    print('less')\n",
    "    for n in l:\n",
    "        print(n)\n",
    "elif t[1]==l[0]:\n",
    "    print('equal')\n",
    "else:\n",
    "    print('not less')"
   ]
  },
  {
   "cell_type": "code",
   "execution_count": 37,
   "id": "d669e3ef-c92a-4e52-b94d-5ff06c57cce0",
   "metadata": {},
   "outputs": [
    {
     "data": {
      "text/plain": [
       "'is it coffee'"
      ]
     },
     "execution_count": 37,
     "metadata": {},
     "output_type": "execute_result"
    }
   ],
   "source": [
    "# functions\n",
    "def doStuff(n): # we may choose to pass in arguments to the function\n",
    "    if n == True:\n",
    "        return ' it is coffee time'\n",
    "    else:\n",
    "        return 'is it coffee'\n",
    "\n",
    "# we invoke the function like this\n",
    "doStuff(False)"
   ]
  },
  {
   "cell_type": "code",
   "execution_count": null,
   "id": "aed5be29-92f8-49ab-8356-8119928c99b8",
   "metadata": {},
   "outputs": [],
   "source": []
  }
 ],
 "metadata": {
  "kernelspec": {
   "display_name": "Python 3 (ipykernel)",
   "language": "python",
   "name": "python3"
  },
  "language_info": {
   "codemirror_mode": {
    "name": "ipython",
    "version": 3
   },
   "file_extension": ".py",
   "mimetype": "text/x-python",
   "name": "python",
   "nbconvert_exporter": "python",
   "pygments_lexer": "ipython3",
   "version": "3.13.7"
  }
 },
 "nbformat": 4,
 "nbformat_minor": 5
}
