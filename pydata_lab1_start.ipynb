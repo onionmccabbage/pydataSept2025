{
 "cells": [
  {
   "cell_type": "markdown",
   "id": "eb50d269-90b9-49a0-b0ca-9e4e42ab284c",
   "metadata": {},
   "source": [
    "## Lab Exercises"
   ]
  },
  {
   "cell_type": "markdown",
   "id": "d624e92e-b004-491e-87ca-ceb335b048b2",
   "metadata": {},
   "source": [
    "#### Import numpy and Pandas as usual"
   ]
  },
  {
   "cell_type": "code",
   "execution_count": 1,
   "id": "a88c49a5-c019-4c26-a3cd-42ba03185a40",
   "metadata": {},
   "outputs": [],
   "source": [
    "# import libraries at the top\n"
   ]
  },
  {
   "cell_type": "markdown",
   "id": "003d3807-d134-4bda-a16c-126668aaa769",
   "metadata": {},
   "source": [
    "#### Load csv data into a DatFrame \n",
    "https://raw.githubusercontent.com/onionmccabbage/pydataSept2025/refs/heads/main/sales.csv"
   ]
  },
  {
   "cell_type": "code",
   "execution_count": 1,
   "id": "03f61597-b09c-467b-a5de-b6b5223c6dcb",
   "metadata": {},
   "outputs": [],
   "source": [
    "# load data using pd.read_csv\n"
   ]
  },
  {
   "cell_type": "markdown",
   "id": "ad606e1f-8c6a-4de3-857e-9d6eaa4a21e2",
   "metadata": {},
   "source": [
    "#### Describe the DataFrame"
   ]
  },
  {
   "cell_type": "code",
   "execution_count": null,
   "id": "e50c610c-879a-4495-a83a-87d96056a345",
   "metadata": {},
   "outputs": [],
   "source": []
  },
  {
   "cell_type": "code",
   "execution_count": 12,
   "id": "a6e440f6-b6b0-4e5d-9e2d-ad76f8f5b5d2",
   "metadata": {},
   "outputs": [],
   "source": [
    "# use iloc() to show just rows 3 to 13 inclusive\n",
    "\n",
    "# then show those rows but just for columns 'Product' to 'Price'\n"
   ]
  },
  {
   "cell_type": "code",
   "execution_count": 14,
   "id": "72188a4a-f41d-4084-8999-60394b645343",
   "metadata": {},
   "outputs": [],
   "source": [
    "# show the 'Name' column sorted alphabetically\n"
   ]
  },
  {
   "cell_type": "markdown",
   "id": "a0546f06-26e8-4847-a789-9fa74500462a",
   "metadata": {},
   "source": [
    "#### Extract the 'Price' column to an array, then show what 5% of each value is\n",
    "Write a function to calculate 5% of a value. Apply this function to each 'Price' using a loop"
   ]
  },
  {
   "cell_type": "code",
   "execution_count": 2,
   "id": "345fdd56-63cd-4181-9303-3fd0a1a7b26f",
   "metadata": {},
   "outputs": [],
   "source": [
    "# Define a Python function which takes a single argument\n",
    "# within the function, calculate and return 5% of the 'cost'\n",
    "# e.g. passing in 100 would return 5, passing in 25 would return 1.25 \n",
    "\n",
    "# extract the 'Price' column values\n",
    "\n",
    "\n",
    "# Use a loop to iterate over the 'Price' values you extracted\n",
    "# Within the loop, apply your function to each 'Price' value, and print the result\n"
   ]
  },
  {
   "cell_type": "code",
   "execution_count": 16,
   "id": "ec966dbe-4570-4b5c-8f83-f533e1281692",
   "metadata": {},
   "outputs": [],
   "source": []
  },
  {
   "cell_type": "markdown",
   "id": "c7048f53-4e5b-4ed6-a91f-bda1b7b5b150",
   "metadata": {},
   "source": [
    "### Challenge (if you have time)\n",
    "#### Find a way to update every 'Price' in your DataFrame to include this calculated percentage\n",
    "e.g. a price of 1000 would be updated to 1050\n",
    "There are several ways to go about this. However you do it, we should end up with all the prices increased by 5%"
   ]
  },
  {
   "cell_type": "code",
   "execution_count": null,
   "id": "24b09306-eeb5-47e0-b5d3-d710130fcb08",
   "metadata": {},
   "outputs": [],
   "source": []
  }
 ],
 "metadata": {
  "kernelspec": {
   "display_name": "Python 3 (ipykernel)",
   "language": "python",
   "name": "python3"
  },
  "language_info": {
   "codemirror_mode": {
    "name": "ipython",
    "version": 3
   },
   "file_extension": ".py",
   "mimetype": "text/x-python",
   "name": "python",
   "nbconvert_exporter": "python",
   "pygments_lexer": "ipython3",
   "version": "3.13.7"
  }
 },
 "nbformat": 4,
 "nbformat_minor": 5
}
